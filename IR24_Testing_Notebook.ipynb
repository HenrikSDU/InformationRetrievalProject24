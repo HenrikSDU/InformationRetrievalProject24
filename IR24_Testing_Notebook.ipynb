{
 "cells": [
  {
   "cell_type": "markdown",
   "metadata": {},
   "source": [
    "# IR24 Project Testing Notebook"
   ]
  },
  {
   "cell_type": "markdown",
   "metadata": {},
   "source": [
    "#### Import Libraries"
   ]
  },
  {
   "cell_type": "code",
   "execution_count": 1,
   "metadata": {},
   "outputs": [],
   "source": [
    "from llama_index.core import SummaryIndex\n",
    "from llama_index.readers.web import SimpleWebPageReader\n",
    "from IPython.display import Markdown, display\n",
    "import IR24_data"
   ]
  },
  {
   "cell_type": "markdown",
   "metadata": {},
   "source": [
    "## Testing Data\n",
    "### Wikipedia\n",
    "https://en.wikipedia.org/wiki/History_of_Singapore\n",
    "\n",
    "https://en.wikipedia.org/wiki/Early_history_of_Singapore \n",
    "\n",
    "https://en.wikipedia.org/wiki/Kingdom_of_Singapura \n",
    "\n",
    "https://en.wikipedia.org/wiki/Founding_years_of_modern_Singapore \n",
    "\n",
    "https://en.wikipedia.org/wiki/Singapore_in_the_Straits_Settlements \n",
    "\n",
    "https://en.wikipedia.org/wiki/Fall_of_Singapore\n",
    "\n",
    "https://en.wikipedia.org/wiki/Japanese_occupation_of_Singapore \n",
    "\n",
    "https://en.wikipedia.org/wiki/Operation_Tiderace \n",
    "\n",
    "https://en.wikipedia.org/wiki/Colony_of_Singapore \n",
    "\n",
    "https://en.wikipedia.org/wiki/Self-governance_of_Singapore \n",
    "\n",
    "https://en.wikipedia.org/wiki/Singapore_in_Malaysia \n",
    "\n",
    "https://en.wikipedia.org/wiki/History_of_the_Republic_of_Singapore \n",
    "\n",
    "## Create .md files"
   ]
  },
  {
   "cell_type": "code",
   "execution_count": 9,
   "metadata": {},
   "outputs": [
    {
     "name": "stdout",
     "output_type": "stream",
     "text": [
      "Markdown content saved to wikidata/History_of_Singapore.md\n",
      "Markdown content saved to wikidata/Early_history_of_Singapore.md\n",
      "Markdown content saved to wikidata/Kingdom_of_Singapura.md\n",
      "Markdown content saved to wikidata/Founding_years_of_modern_Singapore.md\n",
      "Markdown content saved to wikidata/Singapore_in_the_Straits_Settlements.md\n",
      "Markdown content saved to wikidata/Fall_of_Singapore.md\n",
      "Markdown content saved to wikidata/Japanese_occupation_of_Singapore.md\n",
      "Markdown content saved to wikidata/Operation_Tiderace.md\n",
      "Markdown content saved to wikidata/Colony_of_Singapore.md\n",
      "Markdown content saved to wikidata/Self-governance_of_Singapore.md\n",
      "Markdown content saved to wikidata/Singapore_in_Malaysia.md\n",
      "Markdown content saved to wikidata/History_of_the_Republic_of_Singapore.md\n"
     ]
    }
   ],
   "source": [
    "urls = [\"https://en.wikipedia.org/wiki/History_of_Singapore\",\"https://en.wikipedia.org/wiki/Early_history_of_Singapore\",\"https://en.wikipedia.org/wiki/Kingdom_of_Singapura\",\"https://en.wikipedia.org/wiki/Founding_years_of_modern_Singapore\",\"https://en.wikipedia.org/wiki/Singapore_in_the_Straits_Settlements\",\"https://en.wikipedia.org/wiki/Fall_of_Singapore\",\"https://en.wikipedia.org/wiki/Japanese_occupation_of_Singapore\",\"https://en.wikipedia.org/wiki/Operation_Tiderace\",\"https://en.wikipedia.org/wiki/Colony_of_Singapore\",\"https://en.wikipedia.org/wiki/Self-governance_of_Singapore\",\"https://en.wikipedia.org/wiki/Singapore_in_Malaysia\", \"https://en.wikipedia.org/wiki/History_of_the_Republic_of_Singapore\"] \n",
    "\n",
    "for url in urls:\n",
    "    IR24_data.html_to_markdown(url, \"wikidata/\"+url[30:]+\".md\")"
   ]
  },
  {
   "cell_type": "code",
   "execution_count": 3,
   "metadata": {},
   "outputs": [
    {
     "name": "stdout",
     "output_type": "stream",
     "text": [
      "Doc ID: https://en.wikipedia.org/wiki/History_of_Singapore\n",
      "Text: Jump to content  Main menu  Main menu  move to sidebar hide\n",
      "Navigation    * [Main page](/wiki/Main_Page \"Visit the main page\n",
      "\\[z\\]\")   * [Contents](/wiki/Wikipedia:Contents \"Guides to browsing\n",
      "Wikipedia\")   * [Current events](/wiki/Portal:Current_events \"Articles\n",
      "related to current events\")   * [Random article](/wiki/Special:Random\n",
      "\"Visit a ran...\n",
      "<llama_index.core.indices.list.base.SummaryIndex object at 0x000001CE9CD807D0>\n"
     ]
    }
   ],
   "source": [
    "# Adapted from: https://docs.llamaindex.ai/en/stable/examples/data_connectors/WebPageDemo/\n",
    "documents = SimpleWebPageReader(html_to_text=True).load_data(\n",
    "    [\"https://en.wikipedia.org/wiki/History_of_Singapore\"]\n",
    ")\n",
    "print(documents[0])\n",
    "\n",
    "index = SummaryIndex.from_documents(documents)\n",
    "print(index)"
   ]
  }
 ],
 "metadata": {
  "kernelspec": {
   "display_name": "Python 3",
   "language": "python",
   "name": "python3"
  },
  "language_info": {
   "codemirror_mode": {
    "name": "ipython",
    "version": 3
   },
   "file_extension": ".py",
   "mimetype": "text/x-python",
   "name": "python",
   "nbconvert_exporter": "python",
   "pygments_lexer": "ipython3",
   "version": "3.11.4"
  }
 },
 "nbformat": 4,
 "nbformat_minor": 2
}
