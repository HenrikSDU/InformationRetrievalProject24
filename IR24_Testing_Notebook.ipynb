{
 "cells": [
  {
   "cell_type": "markdown",
   "metadata": {},
   "source": [
    "# IR24 Project Testing Notebook"
   ]
  },
  {
   "cell_type": "markdown",
   "metadata": {},
   "source": [
    "#### Import Libraries"
   ]
  },
  {
   "cell_type": "code",
   "execution_count": 1,
   "metadata": {},
   "outputs": [
    {
     "name": "stderr",
     "output_type": "stream",
     "text": [
      "USER_AGENT environment variable not set, consider setting it to identify your requests.\n"
     ]
    }
   ],
   "source": [
    "from llama_index.core import SummaryIndex\n",
    "from llama_index.readers.web import SimpleWebPageReader\n",
    "from IPython.display import Markdown, display\n",
    "import IR24_data\n",
    "\n",
    "import bs4\n",
    "from langchain import hub\n",
    "from langchain_chroma import Chroma\n",
    "from langchain_community.document_loaders import WebBaseLoader\n",
    "from langchain_core.output_parsers import StrOutputParser\n",
    "from langchain_core.runnables import RunnablePassthrough\n",
    "from langchain_huggingface import HuggingFaceEmbeddings\n",
    "from langchain_text_splitters import RecursiveCharacterTextSplitter"
   ]
  },
  {
   "cell_type": "code",
   "execution_count": 2,
   "metadata": {},
   "outputs": [
    {
     "name": "stderr",
     "output_type": "stream",
     "text": [
      "Some parameters are on the meta device because they were offloaded to the cpu.\n"
     ]
    }
   ],
   "source": [
    "import getpass\n",
    "import os\n",
    "from langchain_huggingface.llms import HuggingFacePipeline\n",
    "from transformers import pipeline\n",
    "\n",
    "llm = HuggingFacePipeline(\n",
    "      pipeline=pipeline(\n",
    "        model=\"Qwen/Qwen2.5-0.5B-Instruct\",\n",
    "        task=\"text-generation\",\n",
    "        temperature=0.2,\n",
    "        do_sample=True,\n",
    "        repetition_penalty=1.1,\n",
    "        max_new_tokens=400,\n",
    "        device_map=\"auto\"\n",
    "      )\n",
    "    )"
   ]
  },
  {
   "cell_type": "markdown",
   "metadata": {},
   "source": [
    "## Testing Data\n",
    "### Wikipedia\n",
    "https://en.wikipedia.org/wiki/History_of_Singapore\n",
    "\n",
    "https://en.wikipedia.org/wiki/Early_history_of_Singapore \n",
    "\n",
    "https://en.wikipedia.org/wiki/Kingdom_of_Singapura \n",
    "\n",
    "https://en.wikipedia.org/wiki/Founding_years_of_modern_Singapore \n",
    "\n",
    "https://en.wikipedia.org/wiki/Singapore_in_the_Straits_Settlements \n",
    "\n",
    "https://en.wikipedia.org/wiki/Fall_of_Singapore\n",
    "\n",
    "https://en.wikipedia.org/wiki/Japanese_occupation_of_Singapore \n",
    "\n",
    "https://en.wikipedia.org/wiki/Operation_Tiderace \n",
    "\n",
    "https://en.wikipedia.org/wiki/Colony_of_Singapore \n",
    "\n",
    "https://en.wikipedia.org/wiki/Self-governance_of_Singapore \n",
    "\n",
    "https://en.wikipedia.org/wiki/Singapore_in_Malaysia \n",
    "\n",
    "https://en.wikipedia.org/wiki/History_of_the_Republic_of_Singapore \n",
    "\n",
    "## Create docs"
   ]
  },
  {
   "cell_type": "code",
   "execution_count": 3,
   "metadata": {},
   "outputs": [
    {
     "name": "stdout",
     "output_type": "stream",
     "text": [
      "History_of_Singapore's content saved successfully!\n",
      "Early_history_of_Singapore's content saved successfully!\n",
      "Kingdom_of_Singapura's content saved successfully!\n",
      "Founding_years_of_modern_Singapore's content saved successfully!\n",
      "Singapore_in_the_Straits_Settlements's content saved successfully!\n",
      "Fall_of_Singapore's content saved successfully!\n",
      "Japanese_occupation_of_Singapore's content saved successfully!\n",
      "Operation_Tiderace's content saved successfully!\n",
      "Colony_of_Singapore's content saved successfully!\n",
      "Self-governance_of_Singapore's content saved successfully!\n",
      "Singapore_in_Malaysia's content saved successfully!\n",
      "History_of_the_Republic_of_Singapore's content saved successfully!\n"
     ]
    }
   ],
   "source": [
    "#urls = [\"https://en.wikipedia.org/wiki/History_of_Singapore\",\"https://en.wikipedia.org/wiki/Early_history_of_Singapore\",\"https://en.wikipedia.org/wiki/Kingdom_of_Singapura\",\"https://en.wikipedia.org/wiki/Founding_years_of_modern_Singapore\",\"https://en.wikipedia.org/wiki/Singapore_in_the_Straits_Settlements\",\"https://en.wikipedia.org/wiki/Fall_of_Singapore\",\"https://en.wikipedia.org/wiki/Japanese_occupation_of_Singapore\",\"https://en.wikipedia.org/wiki/Operation_Tiderace\",\"https://en.wikipedia.org/wiki/Colony_of_Singapore\",\"https://en.wikipedia.org/wiki/Self-governance_of_Singapore\",\"https://en.wikipedia.org/wiki/Singapore_in_Malaysia\", \"https://en.wikipedia.org/wiki/History_of_the_Republic_of_Singapore\"] \n",
    "articles = [\"History_of_Singapore\",\n",
    "            \"Early_history_of_Singapore\",\n",
    "            \"Kingdom_of_Singapura\",\n",
    "            \"Founding_years_of_modern_Singapore\",\n",
    "            \"Singapore_in_the_Straits_Settlements\",\n",
    "            \"Fall_of_Singapore\",\n",
    "            \"Japanese_occupation_of_Singapore\",\n",
    "            \"Operation_Tiderace\",\n",
    "            \"Colony_of_Singapore\",\n",
    "            \"Self-governance_of_Singapore\",\n",
    "            \"Singapore_in_Malaysia\", \n",
    "            \"History_of_the_Republic_of_Singapore\"] \n",
    "\n",
    "for article in articles:\n",
    "    IR24_data.wiki_to_text(article, \"wikidata/\" + article + \".txt\")\n",
    "    #IR24_data.html_to_markdown(url, \"wikidata/\"+url[30:]+\".md\")"
   ]
  },
  {
   "cell_type": "code",
   "execution_count": 4,
   "metadata": {},
   "outputs": [
    {
     "name": "stdout",
     "output_type": "stream",
     "text": [
      "Splitting:  wikidata/History_of_Singapore.txt\n",
      "Splitting:  wikidata/Early_history_of_Singapore.txt\n",
      "Splitting:  wikidata/Kingdom_of_Singapura.txt\n",
      "Splitting:  wikidata/Founding_years_of_modern_Singapore.txt\n",
      "Splitting:  wikidata/Singapore_in_the_Straits_Settlements.txt\n",
      "Splitting:  wikidata/Fall_of_Singapore.txt\n",
      "Splitting:  wikidata/Japanese_occupation_of_Singapore.txt\n",
      "Splitting:  wikidata/Operation_Tiderace.txt\n",
      "Splitting:  wikidata/Colony_of_Singapore.txt\n",
      "Splitting:  wikidata/Self-governance_of_Singapore.txt\n",
      "Splitting:  wikidata/Singapore_in_Malaysia.txt\n",
      "Splitting:  wikidata/History_of_the_Republic_of_Singapore.txt\n",
      "304\n"
     ]
    },
    {
     "data": {
      "text/plain": [
       "'\\nprint(splits[1000].metadata)\\nprint(splits[1000].page_content)\\n'"
      ]
     },
     "execution_count": 4,
     "metadata": {},
     "output_type": "execute_result"
    }
   ],
   "source": [
    "# Split docs into chunks\n",
    "# https://python.langchain.com/docs/how_to/recursive_text_splitter/\n",
    "text_splitter = RecursiveCharacterTextSplitter(\n",
    "    chunk_size=1000,\n",
    "    chunk_overlap=100,\n",
    "    length_function=len,\n",
    "    add_start_index=True,\n",
    "    is_separator_regex=False,\n",
    ")\n",
    "\n",
    "splits = []\n",
    "\n",
    "for article in articles:\n",
    "    path = \"wikidata/\" + article + \".txt\"\n",
    "    with open(path, encoding='UTF-8') as f:\n",
    "        article = f.read()\n",
    "        print(\"Splitting: \", path)\n",
    "        doc_texts = text_splitter.create_documents([article])\n",
    "\n",
    "        # Adding source information\n",
    "        for doc_text in doc_texts:\n",
    "            doc_text.metadata['source'] = path\n",
    "            splits.append(doc_text)\n",
    "    \n",
    "\n",
    "print(len(splits))\n",
    "\n",
    "\"\"\"\n",
    "print(splits[1000].metadata)\n",
    "print(splits[1000].page_content)\n",
    "\"\"\""
   ]
  },
  {
   "cell_type": "markdown",
   "metadata": {},
   "source": [
    "### Embedding and Storing Data"
   ]
  },
  {
   "cell_type": "code",
   "execution_count": 5,
   "metadata": {},
   "outputs": [
    {
     "name": "stdout",
     "output_type": "stream",
     "text": [
      "WARNING:tensorflow:From c:\\Users\\f-bon\\AppData\\Local\\Programs\\Python\\Python311\\Lib\\site-packages\\tf_keras\\src\\losses.py:2976: The name tf.losses.sparse_softmax_cross_entropy is deprecated. Please use tf.compat.v1.losses.sparse_softmax_cross_entropy instead.\n",
      "\n"
     ]
    }
   ],
   "source": [
    "embedding_model = HuggingFaceEmbeddings(\n",
    "    model_name=\"thenlper/gte-small\",\n",
    "    multi_process=True,\n",
    "    model_kwargs={\"device\": \"cuda\"},\n",
    "    encode_kwargs={\"normalize_embeddings\": True},  # Set `True` for cosine similarity\n",
    ")"
   ]
  },
  {
   "cell_type": "code",
   "execution_count": 6,
   "metadata": {},
   "outputs": [
    {
     "ename": "",
     "evalue": "",
     "output_type": "error",
     "traceback": [
      "\u001b[1;31mThe Kernel crashed while executing code in the current cell or a previous cell. \n",
      "\u001b[1;31mPlease review the code in the cell(s) to identify a possible cause of the failure. \n",
      "\u001b[1;31mClick <a href='https://aka.ms/vscodeJupyterKernelCrash'>here</a> for more info. \n",
      "\u001b[1;31mView Jupyter <a href='command:jupyter.viewOutput'>log</a> for further details."
     ]
    }
   ],
   "source": [
    "vectorstore = Chroma.from_documents(documents=splits, embedding=embedding_model)"
   ]
  },
  {
   "cell_type": "code",
   "execution_count": null,
   "metadata": {},
   "outputs": [],
   "source": [
    "vectorstore.embeddings"
   ]
  },
  {
   "cell_type": "code",
   "execution_count": null,
   "metadata": {},
   "outputs": [
    {
     "name": "stdout",
     "output_type": "stream",
     "text": [
      "Doc ID: https://en.wikipedia.org/wiki/History_of_Singapore\n",
      "Text: Jump to content  Main menu  Main menu  move to sidebar hide\n",
      "Navigation    * [Main page](/wiki/Main_Page \"Visit the main page\n",
      "\\[z\\]\")   * [Contents](/wiki/Wikipedia:Contents \"Guides to browsing\n",
      "Wikipedia\")   * [Current events](/wiki/Portal:Current_events \"Articles\n",
      "related to current events\")   * [Random article](/wiki/Special:Random\n",
      "\"Visit a ran...\n",
      "<llama_index.core.indices.list.base.SummaryIndex object at 0x00000188176FA410>\n"
     ]
    }
   ],
   "source": [
    "# Adapted from: https://docs.llamaindex.ai/en/stable/examples/data_connectors/WebPageDemo/\n",
    "documents = SimpleWebPageReader(html_to_text=True).load_data(\n",
    "    [\"https://en.wikipedia.org/wiki/History_of_Singapore\"]\n",
    ")\n",
    "print(documents[0])\n",
    "\n",
    "index = SummaryIndex.from_documents(documents)\n",
    "print(index)"
   ]
  },
  {
   "cell_type": "code",
   "execution_count": null,
   "metadata": {},
   "outputs": [],
   "source": [
    "# Load, chunk and index the contents of the blog.\n",
    "loader = WebBaseLoader(\n",
    "    web_paths=(\"https://en.wikipedia.org/wiki/History_of_Singapore\",),\n",
    "    bs_kwargs=dict(\n",
    "        parse_only=bs4.SoupStrainer(\n",
    "            class_=(\"post-content\", \"post-title\", \"post-header\")\n",
    "        )\n",
    "    ),\n",
    ")\n",
    "docs = loader.load()"
   ]
  },
  {
   "cell_type": "code",
   "execution_count": null,
   "metadata": {},
   "outputs": [
    {
     "name": "stdout",
     "output_type": "stream",
     "text": [
      "[Document(metadata={'source': 'https://en.wikipedia.org/wiki/History_of_Singapore'}, page_content='')]\n"
     ]
    }
   ],
   "source": [
    "print(docs)"
   ]
  }
 ],
 "metadata": {
  "kernelspec": {
   "display_name": "Python 3",
   "language": "python",
   "name": "python3"
  },
  "language_info": {
   "codemirror_mode": {
    "name": "ipython",
    "version": 3
   },
   "file_extension": ".py",
   "mimetype": "text/x-python",
   "name": "python",
   "nbconvert_exporter": "python",
   "pygments_lexer": "ipython3",
   "version": "3.11.4"
  }
 },
 "nbformat": 4,
 "nbformat_minor": 2
}
